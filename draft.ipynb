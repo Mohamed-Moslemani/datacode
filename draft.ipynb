{
 "cells": [
  {
   "cell_type": "markdown",
   "metadata": {},
   "source": [
    "# NOTEBOOK FOR TESTING"
   ]
  },
  {
   "cell_type": "code",
   "execution_count": 81,
   "metadata": {},
   "outputs": [],
   "source": [
    "import os\n",
    "import pandas as pd \n",
    "import matplotlib.pyplot as plt \n",
    "import numpy as np \n",
    "pd.set_option(\"display.max_rows\",50)"
   ]
  },
  {
   "cell_type": "code",
   "execution_count": 82,
   "metadata": {
    "vscode": {
     "languageId": "plaintext"
    }
   },
   "outputs": [
    {
     "data": {
      "text/plain": [
       "['DV360_AlNajm.csv',\n",
       " 'TikTok_Ads_AlNajm.csv',\n",
       " 'Snapchat_Ads_AlNajm.csv',\n",
       " 'Budget_Pacing.csv',\n",
       " 'YouTube_Ads_AlNajm.csv',\n",
       " 'Meta_Ads_AlNajm.csv',\n",
       " 'Google_Ads_AlNajm.csv']"
      ]
     },
     "execution_count": 82,
     "metadata": {},
     "output_type": "execute_result"
    }
   ],
   "source": [
    "os.listdir(\"data\")"
   ]
  },
  {
   "cell_type": "code",
   "execution_count": 83,
   "metadata": {
    "vscode": {
     "languageId": "plaintext"
    }
   },
   "outputs": [
    {
     "data": {
      "text/html": [
       "<div>\n",
       "<style scoped>\n",
       "    .dataframe tbody tr th:only-of-type {\n",
       "        vertical-align: middle;\n",
       "    }\n",
       "\n",
       "    .dataframe tbody tr th {\n",
       "        vertical-align: top;\n",
       "    }\n",
       "\n",
       "    .dataframe thead th {\n",
       "        text-align: right;\n",
       "    }\n",
       "</style>\n",
       "<table border=\"1\" class=\"dataframe\">\n",
       "  <thead>\n",
       "    <tr style=\"text-align: right;\">\n",
       "      <th></th>\n",
       "      <th>Date</th>\n",
       "      <th>Campaign_Name</th>\n",
       "      <th>Platform</th>\n",
       "      <th>Impressions</th>\n",
       "      <th>Clicks</th>\n",
       "      <th>Conversions</th>\n",
       "      <th>Spend_USD</th>\n",
       "    </tr>\n",
       "  </thead>\n",
       "  <tbody>\n",
       "    <tr>\n",
       "      <th>0</th>\n",
       "      <td>2023-02-01</td>\n",
       "      <td>AN_Intl_Loyalty_QAT_AR_Leisure_Video_Feb_NA</td>\n",
       "      <td>DV360</td>\n",
       "      <td>28143</td>\n",
       "      <td>3807</td>\n",
       "      <td>138</td>\n",
       "      <td>2624.99</td>\n",
       "    </tr>\n",
       "    <tr>\n",
       "      <th>1</th>\n",
       "      <td>2023-02-02</td>\n",
       "      <td>AN_Intl_Loyalty_QAT_AR_Leisure_Video_Feb_NA</td>\n",
       "      <td>DV360</td>\n",
       "      <td>49638</td>\n",
       "      <td>5908</td>\n",
       "      <td>324</td>\n",
       "      <td>6309.40</td>\n",
       "    </tr>\n",
       "    <tr>\n",
       "      <th>2</th>\n",
       "      <td>2023-02-03</td>\n",
       "      <td>AN_Intl_Loyalty_QAT_AR_Leisure_Video_Feb_NA</td>\n",
       "      <td>DV360</td>\n",
       "      <td>23459</td>\n",
       "      <td>2340</td>\n",
       "      <td>185</td>\n",
       "      <td>2021.46</td>\n",
       "    </tr>\n",
       "    <tr>\n",
       "      <th>3</th>\n",
       "      <td>2023-02-04</td>\n",
       "      <td>AN_Intl_Loyalty_QAT_AR_Leisure_Video_Feb_NA</td>\n",
       "      <td>DV360</td>\n",
       "      <td>11104</td>\n",
       "      <td>356</td>\n",
       "      <td>20</td>\n",
       "      <td>517.01</td>\n",
       "    </tr>\n",
       "    <tr>\n",
       "      <th>4</th>\n",
       "      <td>2023-02-05</td>\n",
       "      <td>AN_Intl_Loyalty_QAT_AR_Leisure_Video_Feb_NA</td>\n",
       "      <td>DV360</td>\n",
       "      <td>14296</td>\n",
       "      <td>2017</td>\n",
       "      <td>119</td>\n",
       "      <td>2453.88</td>\n",
       "    </tr>\n",
       "  </tbody>\n",
       "</table>\n",
       "</div>"
      ],
      "text/plain": [
       "         Date                                Campaign_Name Platform  \\\n",
       "0  2023-02-01  AN_Intl_Loyalty_QAT_AR_Leisure_Video_Feb_NA    DV360   \n",
       "1  2023-02-02  AN_Intl_Loyalty_QAT_AR_Leisure_Video_Feb_NA    DV360   \n",
       "2  2023-02-03  AN_Intl_Loyalty_QAT_AR_Leisure_Video_Feb_NA    DV360   \n",
       "3  2023-02-04  AN_Intl_Loyalty_QAT_AR_Leisure_Video_Feb_NA    DV360   \n",
       "4  2023-02-05  AN_Intl_Loyalty_QAT_AR_Leisure_Video_Feb_NA    DV360   \n",
       "\n",
       "   Impressions  Clicks  Conversions  Spend_USD  \n",
       "0        28143    3807          138    2624.99  \n",
       "1        49638    5908          324    6309.40  \n",
       "2        23459    2340          185    2021.46  \n",
       "3        11104     356           20     517.01  \n",
       "4        14296    2017          119    2453.88  "
      ]
     },
     "execution_count": 83,
     "metadata": {},
     "output_type": "execute_result"
    }
   ],
   "source": [
    "df= pd.read_csv(\"data/DV360_AlNajm.csv\")\n",
    "df.head()"
   ]
  },
  {
   "cell_type": "code",
   "execution_count": 84,
   "metadata": {},
   "outputs": [
    {
     "name": "stdout",
     "output_type": "stream",
     "text": [
      "# of rows: 7310\n",
      "# of columns: 7\n"
     ]
    }
   ],
   "source": [
    "rows,cols= df.shape\n",
    "print(f\"# of rows: {rows}\\n# of columns: {cols}\")"
   ]
  },
  {
   "cell_type": "code",
   "execution_count": 86,
   "metadata": {},
   "outputs": [
    {
     "name": "stdout",
     "output_type": "stream",
     "text": [
      "['AN_Intl_Loyalty_QAT_AR_Leisure_Video_Feb_NA'\n",
      " 'AN_Intl_Booking_EGY_AR_Locals_Display_Jan_DXB-JED'\n",
      " 'AN_Domestic_Booking_KSA_EN_Expats_Search_Jan_DXB-JED'\n",
      " 'AN_Intl_Booking_KSA_EN_Expats_Display_Jan_DXB-JED'\n",
      " 'AN_Intl_Booking_UAE_EN_Expats_Display_Jan_CAI-DMM'\n",
      " 'AN_Intl_Brand_EGY_EN_Expats_Search_Jan_NA'\n",
      " 'AN_Domestic_Loyalty_KSA_EN_Expats_Social_Feb_NA'\n",
      " 'AN_Intl_Brand_UAE_EN_Expats_Display_Jan_NA'\n",
      " 'AN_Domestic_Loyalty_QAT_AR_Leisure_Social_Feb_NA'\n",
      " 'AN_Domestic_Brand_KSA_AR_Business_Social_Feb_NA']\n"
     ]
    }
   ],
   "source": [
    "print(df[\"Campaign_Name\"].unique())"
   ]
  },
  {
   "cell_type": "code",
   "execution_count": 80,
   "metadata": {},
   "outputs": [
    {
     "name": "stdout",
     "output_type": "stream",
     "text": [
      "Number of rows starting with 'AN': 0\n"
     ]
    }
   ],
   "source": [
    "import pandas as pd\n",
    "\n",
    "count = df[df[\"Campaign_Name\"].str.startswith(\"FA\")].shape[0]\n",
    "print(\"Number of rows starting with 'AN':\", count)\n"
   ]
  },
  {
   "cell_type": "code",
   "execution_count": 56,
   "metadata": {},
   "outputs": [
    {
     "data": {
      "text/html": [
       "<div>\n",
       "<style scoped>\n",
       "    .dataframe tbody tr th:only-of-type {\n",
       "        vertical-align: middle;\n",
       "    }\n",
       "\n",
       "    .dataframe tbody tr th {\n",
       "        vertical-align: top;\n",
       "    }\n",
       "\n",
       "    .dataframe thead th {\n",
       "        text-align: right;\n",
       "    }\n",
       "</style>\n",
       "<table border=\"1\" class=\"dataframe\">\n",
       "  <thead>\n",
       "    <tr style=\"text-align: right;\">\n",
       "      <th></th>\n",
       "      <th>BusinessUnit</th>\n",
       "      <th>Objective</th>\n",
       "      <th>Market</th>\n",
       "      <th>Language</th>\n",
       "      <th>Audience</th>\n",
       "      <th>Channel</th>\n",
       "      <th>Month</th>\n",
       "      <th>Route</th>\n",
       "      <th>Original</th>\n",
       "    </tr>\n",
       "  </thead>\n",
       "  <tbody>\n",
       "    <tr>\n",
       "      <th>0</th>\n",
       "      <td>Intl</td>\n",
       "      <td>Brand</td>\n",
       "      <td>UAE</td>\n",
       "      <td>AR</td>\n",
       "      <td>Leisure</td>\n",
       "      <td>Search</td>\n",
       "      <td>Jan</td>\n",
       "      <td>NA</td>\n",
       "      <td>AN_Intl_Brand_UAE_AR_Leisure_Search_Jan_NA</td>\n",
       "    </tr>\n",
       "    <tr>\n",
       "      <th>1</th>\n",
       "      <td>Intl</td>\n",
       "      <td>Brand</td>\n",
       "      <td>UAE</td>\n",
       "      <td>AR</td>\n",
       "      <td>Leisure</td>\n",
       "      <td>Search</td>\n",
       "      <td>Jan</td>\n",
       "      <td>NA</td>\n",
       "      <td>AN_Intl_Brand_UAE_AR_Leisure_Search_Jan_NA</td>\n",
       "    </tr>\n",
       "    <tr>\n",
       "      <th>2</th>\n",
       "      <td>Intl</td>\n",
       "      <td>Brand</td>\n",
       "      <td>UAE</td>\n",
       "      <td>AR</td>\n",
       "      <td>Leisure</td>\n",
       "      <td>Search</td>\n",
       "      <td>Jan</td>\n",
       "      <td>NA</td>\n",
       "      <td>AN_Intl_Brand_UAE_AR_Leisure_Search_Jan_NA</td>\n",
       "    </tr>\n",
       "    <tr>\n",
       "      <th>3</th>\n",
       "      <td>Intl</td>\n",
       "      <td>Brand</td>\n",
       "      <td>UAE</td>\n",
       "      <td>AR</td>\n",
       "      <td>Leisure</td>\n",
       "      <td>Search</td>\n",
       "      <td>Jan</td>\n",
       "      <td>NA</td>\n",
       "      <td>AN_Intl_Brand_UAE_AR_Leisure_Search_Jan_NA</td>\n",
       "    </tr>\n",
       "    <tr>\n",
       "      <th>4</th>\n",
       "      <td>Intl</td>\n",
       "      <td>Brand</td>\n",
       "      <td>UAE</td>\n",
       "      <td>AR</td>\n",
       "      <td>Leisure</td>\n",
       "      <td>Search</td>\n",
       "      <td>Jan</td>\n",
       "      <td>NA</td>\n",
       "      <td>AN_Intl_Brand_UAE_AR_Leisure_Search_Jan_NA</td>\n",
       "    </tr>\n",
       "    <tr>\n",
       "      <th>...</th>\n",
       "      <td>...</td>\n",
       "      <td>...</td>\n",
       "      <td>...</td>\n",
       "      <td>...</td>\n",
       "      <td>...</td>\n",
       "      <td>...</td>\n",
       "      <td>...</td>\n",
       "      <td>...</td>\n",
       "      <td>...</td>\n",
       "    </tr>\n",
       "    <tr>\n",
       "      <th>7305</th>\n",
       "      <td>Intl</td>\n",
       "      <td>Booking</td>\n",
       "      <td>QAT</td>\n",
       "      <td>AR</td>\n",
       "      <td>Locals</td>\n",
       "      <td>Social</td>\n",
       "      <td>Feb</td>\n",
       "      <td>RUH-CAI</td>\n",
       "      <td>AN_Intl_Booking_QAT_AR_Locals_Social_Feb_RUH-CAI</td>\n",
       "    </tr>\n",
       "    <tr>\n",
       "      <th>7306</th>\n",
       "      <td>Intl</td>\n",
       "      <td>Booking</td>\n",
       "      <td>QAT</td>\n",
       "      <td>AR</td>\n",
       "      <td>Locals</td>\n",
       "      <td>Social</td>\n",
       "      <td>Feb</td>\n",
       "      <td>RUH-CAI</td>\n",
       "      <td>AN_Intl_Booking_QAT_AR_Locals_Social_Feb_RUH-CAI</td>\n",
       "    </tr>\n",
       "    <tr>\n",
       "      <th>7307</th>\n",
       "      <td>Intl</td>\n",
       "      <td>Booking</td>\n",
       "      <td>QAT</td>\n",
       "      <td>AR</td>\n",
       "      <td>Locals</td>\n",
       "      <td>Social</td>\n",
       "      <td>Feb</td>\n",
       "      <td>RUH-CAI</td>\n",
       "      <td>AN_Intl_Booking_QAT_AR_Locals_Social_Feb_RUH-CAI</td>\n",
       "    </tr>\n",
       "    <tr>\n",
       "      <th>7308</th>\n",
       "      <td>Intl</td>\n",
       "      <td>Booking</td>\n",
       "      <td>QAT</td>\n",
       "      <td>AR</td>\n",
       "      <td>Locals</td>\n",
       "      <td>Social</td>\n",
       "      <td>Feb</td>\n",
       "      <td>RUH-CAI</td>\n",
       "      <td>AN_Intl_Booking_QAT_AR_Locals_Social_Feb_RUH-CAI</td>\n",
       "    </tr>\n",
       "    <tr>\n",
       "      <th>7309</th>\n",
       "      <td>Intl</td>\n",
       "      <td>Booking</td>\n",
       "      <td>QAT</td>\n",
       "      <td>AR</td>\n",
       "      <td>Locals</td>\n",
       "      <td>Social</td>\n",
       "      <td>Feb</td>\n",
       "      <td>RUH-CAI</td>\n",
       "      <td>AN_Intl_Booking_QAT_AR_Locals_Social_Feb_RUH-CAI</td>\n",
       "    </tr>\n",
       "  </tbody>\n",
       "</table>\n",
       "<p>7310 rows × 9 columns</p>\n",
       "</div>"
      ],
      "text/plain": [
       "     BusinessUnit Objective Market Language Audience Channel Month    Route  \\\n",
       "0            Intl     Brand    UAE       AR  Leisure  Search   Jan       NA   \n",
       "1            Intl     Brand    UAE       AR  Leisure  Search   Jan       NA   \n",
       "2            Intl     Brand    UAE       AR  Leisure  Search   Jan       NA   \n",
       "3            Intl     Brand    UAE       AR  Leisure  Search   Jan       NA   \n",
       "4            Intl     Brand    UAE       AR  Leisure  Search   Jan       NA   \n",
       "...           ...       ...    ...      ...      ...     ...   ...      ...   \n",
       "7305         Intl   Booking    QAT       AR   Locals  Social   Feb  RUH-CAI   \n",
       "7306         Intl   Booking    QAT       AR   Locals  Social   Feb  RUH-CAI   \n",
       "7307         Intl   Booking    QAT       AR   Locals  Social   Feb  RUH-CAI   \n",
       "7308         Intl   Booking    QAT       AR   Locals  Social   Feb  RUH-CAI   \n",
       "7309         Intl   Booking    QAT       AR   Locals  Social   Feb  RUH-CAI   \n",
       "\n",
       "                                              Original  \n",
       "0           AN_Intl_Brand_UAE_AR_Leisure_Search_Jan_NA  \n",
       "1           AN_Intl_Brand_UAE_AR_Leisure_Search_Jan_NA  \n",
       "2           AN_Intl_Brand_UAE_AR_Leisure_Search_Jan_NA  \n",
       "3           AN_Intl_Brand_UAE_AR_Leisure_Search_Jan_NA  \n",
       "4           AN_Intl_Brand_UAE_AR_Leisure_Search_Jan_NA  \n",
       "...                                                ...  \n",
       "7305  AN_Intl_Booking_QAT_AR_Locals_Social_Feb_RUH-CAI  \n",
       "7306  AN_Intl_Booking_QAT_AR_Locals_Social_Feb_RUH-CAI  \n",
       "7307  AN_Intl_Booking_QAT_AR_Locals_Social_Feb_RUH-CAI  \n",
       "7308  AN_Intl_Booking_QAT_AR_Locals_Social_Feb_RUH-CAI  \n",
       "7309  AN_Intl_Booking_QAT_AR_Locals_Social_Feb_RUH-CAI  \n",
       "\n",
       "[7310 rows x 9 columns]"
      ]
     },
     "execution_count": 56,
     "metadata": {},
     "output_type": "execute_result"
    }
   ],
   "source": [
    "bad"
   ]
  },
  {
   "cell_type": "code",
   "execution_count": null,
   "metadata": {},
   "outputs": [],
   "source": []
  }
 ],
 "metadata": {
  "kernelspec": {
   "display_name": "Python (VSCode)",
   "language": "python",
   "name": "pyvscode"
  },
  "language_info": {
   "codemirror_mode": {
    "name": "ipython",
    "version": 3
   },
   "file_extension": ".py",
   "mimetype": "text/x-python",
   "name": "python",
   "nbconvert_exporter": "python",
   "pygments_lexer": "ipython3",
   "version": "3.13.5"
  }
 },
 "nbformat": 4,
 "nbformat_minor": 4
}
