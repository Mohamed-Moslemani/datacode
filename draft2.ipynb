{
 "cells": [
  {
   "cell_type": "code",
   "execution_count": 4,
   "id": "decb6daf-43db-489d-b5b9-4aa75f1d56f8",
   "metadata": {},
   "outputs": [],
   "source": [
    "import os\n",
    "import pandas as pd \n",
    "import matplotlib.pyplot as plt \n",
    "import numpy as np \n",
    "import glob\n",
    "from Taxonomy.TaxonomyParser import TaxonomyParser\n",
    "pd.set_option(\"display.max_rows\",50)"
   ]
  },
  {
   "cell_type": "code",
   "execution_count": 23,
   "id": "dd2d7d96-16d6-4105-b4f1-c236082ee16f",
   "metadata": {},
   "outputs": [],
   "source": [
    "folder_path= \"data/adsData\"\n",
    "file_list = glob.glob(f\"{folder_path}/*_AlNajm.csv\")\n",
    "\n",
    "df = pd.concat([pd.read_csv(file) for file in file_list], ignore_index=True)\n",
    "df2= pd.read_csv(\"data/savedData/datacleaned.csv\")"
   ]
  },
  {
   "cell_type": "code",
   "execution_count": 6,
   "id": "8382ba19-cfa4-4a20-beac-8504dc424194",
   "metadata": {},
   "outputs": [
    {
     "data": {
      "text/html": [
       "<div>\n",
       "<style scoped>\n",
       "    .dataframe tbody tr th:only-of-type {\n",
       "        vertical-align: middle;\n",
       "    }\n",
       "\n",
       "    .dataframe tbody tr th {\n",
       "        vertical-align: top;\n",
       "    }\n",
       "\n",
       "    .dataframe thead th {\n",
       "        text-align: right;\n",
       "    }\n",
       "</style>\n",
       "<table border=\"1\" class=\"dataframe\">\n",
       "  <thead>\n",
       "    <tr style=\"text-align: right;\">\n",
       "      <th></th>\n",
       "      <th>Date</th>\n",
       "      <th>Campaign_Name</th>\n",
       "      <th>Platform</th>\n",
       "      <th>Impressions</th>\n",
       "      <th>Clicks</th>\n",
       "      <th>Conversions</th>\n",
       "      <th>Spend_USD</th>\n",
       "    </tr>\n",
       "  </thead>\n",
       "  <tbody>\n",
       "    <tr>\n",
       "      <th>0</th>\n",
       "      <td>2023-02-01</td>\n",
       "      <td>AN_Intl_Loyalty_QAT_AR_Leisure_Video_Feb_NA</td>\n",
       "      <td>DV360</td>\n",
       "      <td>28143</td>\n",
       "      <td>3807</td>\n",
       "      <td>138</td>\n",
       "      <td>2624.99</td>\n",
       "    </tr>\n",
       "    <tr>\n",
       "      <th>1</th>\n",
       "      <td>2023-02-02</td>\n",
       "      <td>AN_Intl_Loyalty_QAT_AR_Leisure_Video_Feb_NA</td>\n",
       "      <td>DV360</td>\n",
       "      <td>49638</td>\n",
       "      <td>5908</td>\n",
       "      <td>324</td>\n",
       "      <td>6309.40</td>\n",
       "    </tr>\n",
       "    <tr>\n",
       "      <th>2</th>\n",
       "      <td>2023-02-03</td>\n",
       "      <td>AN_Intl_Loyalty_QAT_AR_Leisure_Video_Feb_NA</td>\n",
       "      <td>DV360</td>\n",
       "      <td>23459</td>\n",
       "      <td>2340</td>\n",
       "      <td>185</td>\n",
       "      <td>2021.46</td>\n",
       "    </tr>\n",
       "    <tr>\n",
       "      <th>3</th>\n",
       "      <td>2023-02-04</td>\n",
       "      <td>AN_Intl_Loyalty_QAT_AR_Leisure_Video_Feb_NA</td>\n",
       "      <td>DV360</td>\n",
       "      <td>11104</td>\n",
       "      <td>356</td>\n",
       "      <td>20</td>\n",
       "      <td>517.01</td>\n",
       "    </tr>\n",
       "    <tr>\n",
       "      <th>4</th>\n",
       "      <td>2023-02-05</td>\n",
       "      <td>AN_Intl_Loyalty_QAT_AR_Leisure_Video_Feb_NA</td>\n",
       "      <td>DV360</td>\n",
       "      <td>14296</td>\n",
       "      <td>2017</td>\n",
       "      <td>119</td>\n",
       "      <td>2453.88</td>\n",
       "    </tr>\n",
       "  </tbody>\n",
       "</table>\n",
       "</div>"
      ],
      "text/plain": [
       "         Date                                Campaign_Name Platform  \\\n",
       "0  2023-02-01  AN_Intl_Loyalty_QAT_AR_Leisure_Video_Feb_NA    DV360   \n",
       "1  2023-02-02  AN_Intl_Loyalty_QAT_AR_Leisure_Video_Feb_NA    DV360   \n",
       "2  2023-02-03  AN_Intl_Loyalty_QAT_AR_Leisure_Video_Feb_NA    DV360   \n",
       "3  2023-02-04  AN_Intl_Loyalty_QAT_AR_Leisure_Video_Feb_NA    DV360   \n",
       "4  2023-02-05  AN_Intl_Loyalty_QAT_AR_Leisure_Video_Feb_NA    DV360   \n",
       "\n",
       "   Impressions  Clicks  Conversions  Spend_USD  \n",
       "0        28143    3807          138    2624.99  \n",
       "1        49638    5908          324    6309.40  \n",
       "2        23459    2340          185    2021.46  \n",
       "3        11104     356           20     517.01  \n",
       "4        14296    2017          119    2453.88  "
      ]
     },
     "execution_count": 6,
     "metadata": {},
     "output_type": "execute_result"
    }
   ],
   "source": [
    "df.head()"
   ]
  },
  {
   "cell_type": "code",
   "execution_count": 8,
   "id": "9215ca64-94e3-4831-b69e-540dcf6b6138",
   "metadata": {},
   "outputs": [],
   "source": [
    "def test_taxonomy_parser_from_df(df):\n",
    "\n",
    "    parser = TaxonomyParser()\n",
    "    parsed_df = parser.parse_dataframe(df)\n",
    "\n",
    "    # Flag invalid routes (e.g., \"NA\" or bad format)\n",
    "    parsed_df[\"Invalid_Route_Flag\"] = ~parsed_df[\"Route\"].str.match(r\"^[A-Z]{3}-[A-Z]{3}$\")\n",
    "\n",
    "    print(\"Parsed sample:\")\n",
    "    display(parsed_df.head())  # for Jupyter\n",
    "    return parsed_df\n"
   ]
  },
  {
   "cell_type": "code",
   "execution_count": 9,
   "id": "687e028d-ed11-4ea3-8398-784009a495ee",
   "metadata": {},
   "outputs": [
    {
     "name": "stdout",
     "output_type": "stream",
     "text": [
      "Parsed sample:\n"
     ]
    },
    {
     "data": {
      "text/html": [
       "<div>\n",
       "<style scoped>\n",
       "    .dataframe tbody tr th:only-of-type {\n",
       "        vertical-align: middle;\n",
       "    }\n",
       "\n",
       "    .dataframe tbody tr th {\n",
       "        vertical-align: top;\n",
       "    }\n",
       "\n",
       "    .dataframe thead th {\n",
       "        text-align: right;\n",
       "    }\n",
       "</style>\n",
       "<table border=\"1\" class=\"dataframe\">\n",
       "  <thead>\n",
       "    <tr style=\"text-align: right;\">\n",
       "      <th></th>\n",
       "      <th>Date</th>\n",
       "      <th>Campaign_Name</th>\n",
       "      <th>Platform</th>\n",
       "      <th>Impressions</th>\n",
       "      <th>Clicks</th>\n",
       "      <th>Conversions</th>\n",
       "      <th>Spend_USD</th>\n",
       "      <th>BusinessUnit</th>\n",
       "      <th>Objective</th>\n",
       "      <th>Market</th>\n",
       "      <th>Language</th>\n",
       "      <th>Audience</th>\n",
       "      <th>Channel</th>\n",
       "      <th>Month</th>\n",
       "      <th>Route</th>\n",
       "      <th>Validity</th>\n",
       "      <th>Invalid_Route_Flag</th>\n",
       "    </tr>\n",
       "  </thead>\n",
       "  <tbody>\n",
       "    <tr>\n",
       "      <th>0</th>\n",
       "      <td>2023-02-01</td>\n",
       "      <td>AN_Intl_Loyalty_QAT_AR_Leisure_Video_Feb_NA</td>\n",
       "      <td>DV360</td>\n",
       "      <td>28143</td>\n",
       "      <td>3807</td>\n",
       "      <td>138</td>\n",
       "      <td>2624.99</td>\n",
       "      <td>Intl</td>\n",
       "      <td>Loyalty</td>\n",
       "      <td>QAT</td>\n",
       "      <td>AR</td>\n",
       "      <td>Leisure</td>\n",
       "      <td>Video</td>\n",
       "      <td>Feb</td>\n",
       "      <td>NA</td>\n",
       "      <td>False</td>\n",
       "      <td>True</td>\n",
       "    </tr>\n",
       "    <tr>\n",
       "      <th>1</th>\n",
       "      <td>2023-02-02</td>\n",
       "      <td>AN_Intl_Loyalty_QAT_AR_Leisure_Video_Feb_NA</td>\n",
       "      <td>DV360</td>\n",
       "      <td>49638</td>\n",
       "      <td>5908</td>\n",
       "      <td>324</td>\n",
       "      <td>6309.40</td>\n",
       "      <td>Intl</td>\n",
       "      <td>Loyalty</td>\n",
       "      <td>QAT</td>\n",
       "      <td>AR</td>\n",
       "      <td>Leisure</td>\n",
       "      <td>Video</td>\n",
       "      <td>Feb</td>\n",
       "      <td>NA</td>\n",
       "      <td>False</td>\n",
       "      <td>True</td>\n",
       "    </tr>\n",
       "    <tr>\n",
       "      <th>2</th>\n",
       "      <td>2023-02-03</td>\n",
       "      <td>AN_Intl_Loyalty_QAT_AR_Leisure_Video_Feb_NA</td>\n",
       "      <td>DV360</td>\n",
       "      <td>23459</td>\n",
       "      <td>2340</td>\n",
       "      <td>185</td>\n",
       "      <td>2021.46</td>\n",
       "      <td>Intl</td>\n",
       "      <td>Loyalty</td>\n",
       "      <td>QAT</td>\n",
       "      <td>AR</td>\n",
       "      <td>Leisure</td>\n",
       "      <td>Video</td>\n",
       "      <td>Feb</td>\n",
       "      <td>NA</td>\n",
       "      <td>False</td>\n",
       "      <td>True</td>\n",
       "    </tr>\n",
       "    <tr>\n",
       "      <th>3</th>\n",
       "      <td>2023-02-04</td>\n",
       "      <td>AN_Intl_Loyalty_QAT_AR_Leisure_Video_Feb_NA</td>\n",
       "      <td>DV360</td>\n",
       "      <td>11104</td>\n",
       "      <td>356</td>\n",
       "      <td>20</td>\n",
       "      <td>517.01</td>\n",
       "      <td>Intl</td>\n",
       "      <td>Loyalty</td>\n",
       "      <td>QAT</td>\n",
       "      <td>AR</td>\n",
       "      <td>Leisure</td>\n",
       "      <td>Video</td>\n",
       "      <td>Feb</td>\n",
       "      <td>NA</td>\n",
       "      <td>False</td>\n",
       "      <td>True</td>\n",
       "    </tr>\n",
       "    <tr>\n",
       "      <th>4</th>\n",
       "      <td>2023-02-05</td>\n",
       "      <td>AN_Intl_Loyalty_QAT_AR_Leisure_Video_Feb_NA</td>\n",
       "      <td>DV360</td>\n",
       "      <td>14296</td>\n",
       "      <td>2017</td>\n",
       "      <td>119</td>\n",
       "      <td>2453.88</td>\n",
       "      <td>Intl</td>\n",
       "      <td>Loyalty</td>\n",
       "      <td>QAT</td>\n",
       "      <td>AR</td>\n",
       "      <td>Leisure</td>\n",
       "      <td>Video</td>\n",
       "      <td>Feb</td>\n",
       "      <td>NA</td>\n",
       "      <td>False</td>\n",
       "      <td>True</td>\n",
       "    </tr>\n",
       "  </tbody>\n",
       "</table>\n",
       "</div>"
      ],
      "text/plain": [
       "         Date                                Campaign_Name Platform  \\\n",
       "0  2023-02-01  AN_Intl_Loyalty_QAT_AR_Leisure_Video_Feb_NA    DV360   \n",
       "1  2023-02-02  AN_Intl_Loyalty_QAT_AR_Leisure_Video_Feb_NA    DV360   \n",
       "2  2023-02-03  AN_Intl_Loyalty_QAT_AR_Leisure_Video_Feb_NA    DV360   \n",
       "3  2023-02-04  AN_Intl_Loyalty_QAT_AR_Leisure_Video_Feb_NA    DV360   \n",
       "4  2023-02-05  AN_Intl_Loyalty_QAT_AR_Leisure_Video_Feb_NA    DV360   \n",
       "\n",
       "   Impressions  Clicks  Conversions  Spend_USD BusinessUnit Objective Market  \\\n",
       "0        28143    3807          138    2624.99         Intl   Loyalty    QAT   \n",
       "1        49638    5908          324    6309.40         Intl   Loyalty    QAT   \n",
       "2        23459    2340          185    2021.46         Intl   Loyalty    QAT   \n",
       "3        11104     356           20     517.01         Intl   Loyalty    QAT   \n",
       "4        14296    2017          119    2453.88         Intl   Loyalty    QAT   \n",
       "\n",
       "  Language Audience Channel Month Route  Validity  Invalid_Route_Flag  \n",
       "0       AR  Leisure   Video   Feb    NA     False                True  \n",
       "1       AR  Leisure   Video   Feb    NA     False                True  \n",
       "2       AR  Leisure   Video   Feb    NA     False                True  \n",
       "3       AR  Leisure   Video   Feb    NA     False                True  \n",
       "4       AR  Leisure   Video   Feb    NA     False                True  "
      ]
     },
     "metadata": {},
     "output_type": "display_data"
    }
   ],
   "source": [
    "parsed_df = test_taxonomy_parser_from_df(df)\n"
   ]
  },
  {
   "cell_type": "code",
   "execution_count": 10,
   "id": "25ebde9a-06eb-4155-8e57-278d39927f78",
   "metadata": {},
   "outputs": [
    {
     "data": {
      "text/plain": [
       "Validity\n",
       "False    29240\n",
       "True     14620\n",
       "Name: count, dtype: int64"
      ]
     },
     "execution_count": 10,
     "metadata": {},
     "output_type": "execute_result"
    }
   ],
   "source": [
    "parsed_df[\"Validity\"].value_counts()"
   ]
  },
  {
   "cell_type": "code",
   "execution_count": 11,
   "id": "5c0451bf-d939-456e-a9ad-a617f51e06ad",
   "metadata": {},
   "outputs": [],
   "source": [
    "def join_campaign_with_budget_df(campaign_df: pd.DataFrame, budget_df: pd.DataFrame) -> pd.DataFrame:\n",
    "    def normalize_route(val):\n",
    "        if pd.isna(val) or str(val).lower() == 'nan':\n",
    "            return 'NA'\n",
    "        return val\n",
    "\n",
    "    campaign_df = campaign_df.copy()\n",
    "    budget_df = budget_df.copy()\n",
    "\n",
    "    campaign_df[\"Route\"] = campaign_df[\"Route\"].apply(normalize_route)\n",
    "    budget_df[\"Route\"] = budget_df[\"Route\"].apply(normalize_route)\n",
    "\n",
    "    campaign_df[\"Date\"] = pd.to_datetime(campaign_df[\"Date\"])\n",
    "    budget_df[\"Date\"] = pd.to_datetime(budget_df[\"Date\"])\n",
    "\n",
    "    join_keys = [\"BusinessUnit\", \"Objective\", \"Market\", \"Language\", \"Audience\", \"Channel\", \"Month\", \"Route\", \"Date\"]\n",
    "    \n",
    "    merged_df = pd.merge(\n",
    "        campaign_df,\n",
    "        budget_df[join_keys + [\"Planned_Daily_Budget_USD\"]],\n",
    "        how=\"left\",\n",
    "        on=join_keys\n",
    "    )\n",
    "\n",
    "    return merged_df\n"
   ]
  },
  {
   "cell_type": "code",
   "execution_count": 12,
   "id": "4085be3f-b208-4e3f-ba85-b5c56c707d55",
   "metadata": {},
   "outputs": [
    {
     "name": "stderr",
     "output_type": "stream",
     "text": [
      "/tmp/ipykernel_1220385/2971148265.py:1: DtypeWarning: Columns (7) have mixed types. Specify dtype option on import or set low_memory=False.\n",
      "  bdgt= pd.read_csv(\"data/Budget_Pacing.csv\")\n"
     ]
    }
   ],
   "source": [
    "bdgt= pd.read_csv(\"data/Budget_Pacing.csv\")"
   ]
  },
  {
   "cell_type": "code",
   "execution_count": 13,
   "id": "b03fd20b-eefc-44db-8061-3f14b4807cb0",
   "metadata": {},
   "outputs": [],
   "source": [
    "joined_df = join_campaign_with_budget_df(parsed_df, bdgt)\n"
   ]
  },
  {
   "cell_type": "code",
   "execution_count": 17,
   "id": "b24a396b-558e-4e38-87fd-d84875df03b6",
   "metadata": {},
   "outputs": [],
   "source": [
    "validdf= joined_df[joined_df[\"Validity\"]==True]"
   ]
  },
  {
   "cell_type": "code",
   "execution_count": 22,
   "id": "4e758225-28cd-4e17-8737-40182efa3eea",
   "metadata": {},
   "outputs": [],
   "source": [
    "validdf.to_csv(\"validdf.csv\")"
   ]
  },
  {
   "cell_type": "code",
   "execution_count": 25,
   "id": "c959223c-ef30-44b4-8e77-12d4c7b1a0b1",
   "metadata": {},
   "outputs": [],
   "source": [
    "df= df2.copy()\n",
    "df['Date'] = pd.to_datetime(df['Date']) \n",
    "\n",
    "df_last_week = df[\n",
    "    (df['Date'] >= pd.Timestamp('2025-01-24')) &\n",
    "    (df['Date'] <= pd.Timestamp('2025-01-31'))\n",
    "]\n"
   ]
  },
  {
   "cell_type": "code",
   "execution_count": 27,
   "id": "0ab1d657-5fba-4629-a3a1-f7e62cd3c2dd",
   "metadata": {},
   "outputs": [],
   "source": [
    "df_last_week.to_csv(\"lastweekdf.csv\")"
   ]
  },
  {
   "cell_type": "code",
   "execution_count": 29,
   "id": "076da6ce-73c3-4c14-b162-381ce145550f",
   "metadata": {},
   "outputs": [
    {
     "data": {
      "text/plain": [
       "<DatetimeArray>\n",
       "['2025-01-26 00:00:00', '2025-01-27 00:00:00', '2025-01-30 00:00:00',\n",
       " '2025-01-28 00:00:00', '2025-01-29 00:00:00', '2025-01-31 00:00:00',\n",
       " '2025-01-25 00:00:00', '2025-01-24 00:00:00']\n",
       "Length: 8, dtype: datetime64[ns]"
      ]
     },
     "execution_count": 29,
     "metadata": {},
     "output_type": "execute_result"
    }
   ],
   "source": [
    "df_last_week[\"Date\"].unique()"
   ]
  },
  {
   "cell_type": "code",
   "execution_count": null,
   "id": "092e3e79-5714-429c-b87d-8692b4ca361a",
   "metadata": {},
   "outputs": [],
   "source": []
  }
 ],
 "metadata": {
  "kernelspec": {
   "display_name": "Python 3 (ipykernel)",
   "language": "python",
   "name": "python3"
  },
  "language_info": {
   "codemirror_mode": {
    "name": "ipython",
    "version": 3
   },
   "file_extension": ".py",
   "mimetype": "text/x-python",
   "name": "python",
   "nbconvert_exporter": "python",
   "pygments_lexer": "ipython3",
   "version": "3.13.5"
  }
 },
 "nbformat": 4,
 "nbformat_minor": 5
}
